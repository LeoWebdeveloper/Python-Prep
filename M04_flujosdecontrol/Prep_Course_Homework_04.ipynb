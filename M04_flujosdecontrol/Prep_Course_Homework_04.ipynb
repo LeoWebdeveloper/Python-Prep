{
 "cells": [
  {
   "attachments": {},
   "cell_type": "markdown",
   "metadata": {},
   "source": [
    "## Flujos de Control"
   ]
  },
  {
   "attachments": {},
   "cell_type": "markdown",
   "metadata": {},
   "source": [
    "1) Crear una variable que contenga un elemento del conjunto de números enteros y luego imprimir por pantalla si es mayor o menor a cero"
   ]
  },
  {
   "cell_type": "code",
   "execution_count": null,
   "metadata": {},
   "outputs": [
    {
     "name": "stdout",
     "output_type": "stream",
     "text": [
      "a es mayor a cero\n"
     ]
    }
   ],
   "source": [
    "a = 4\n",
    "if a > 0:\n",
    "    print(\"a es mayor a cero\")\n",
    "else:\n",
    "    print(\"a es menor a cero\")"
   ]
  },
  {
   "attachments": {},
   "cell_type": "markdown",
   "metadata": {},
   "source": [
    "2) Crear dos variables y un condicional que informe si son del mismo tipo de dato"
   ]
  },
  {
   "cell_type": "code",
   "execution_count": null,
   "metadata": {},
   "outputs": [
    {
     "name": "stdout",
     "output_type": "stream",
     "text": [
      "no son del mismo tipo de datos\n"
     ]
    }
   ],
   "source": [
    "a = 2\n",
    "b= '3'\n",
    "if isinstance(a, int) and isinstance(b, int):\n",
    "    print('son del miso tipo de datos')\n",
    "else:\n",
    "    print('no son del mismo tipo de datos')"
   ]
  },
  {
   "attachments": {},
   "cell_type": "markdown",
   "metadata": {},
   "source": [
    "3) Para los valores enteros del 1 al 20, imprimir por pantalla si es par o impar"
   ]
  },
  {
   "cell_type": "code",
   "execution_count": null,
   "metadata": {},
   "outputs": [
    {
     "name": "stdout",
     "output_type": "stream",
     "text": [
      "1: No es par\n",
      "2: es par\n",
      "3: No es par\n",
      "4: es par\n",
      "5: No es par\n",
      "6: es par\n",
      "7: No es par\n",
      "8: es par\n",
      "9: No es par\n",
      "10: es par\n",
      "11: No es par\n",
      "12: es par\n",
      "13: No es par\n",
      "14: es par\n",
      "15: No es par\n",
      "16: es par\n",
      "17: No es par\n",
      "18: es par\n",
      "19: No es par\n",
      "20: es par\n"
     ]
    }
   ],
   "source": [
    "for i in range(1, 21):\n",
    "    if i % 2 == 0:\n",
    "        print(f'{i}: es par')\n",
    "    else:\n",
    "       print(f'{i}: No es par')    "
   ]
  },
  {
   "attachments": {},
   "cell_type": "markdown",
   "metadata": {},
   "source": [
    "4) En un ciclo for mostrar para los valores entre 0 y 5 el resultado de elevarlo a la potencia igual a 3"
   ]
  },
  {
   "cell_type": "code",
   "execution_count": 3,
   "metadata": {},
   "outputs": [
    {
     "name": "stdout",
     "output_type": "stream",
     "text": [
      "0 elevado a 3 : 0\n",
      "1 elevado a 3 : 1\n",
      "2 elevado a 3 : 8\n",
      "3 elevado a 3 : 27\n",
      "4 elevado a 3 : 64\n",
      "5 elevado a 3 : 125\n"
     ]
    }
   ],
   "source": [
    "for i in range(6):\n",
    "    print(f'{i} elevado a 3 : {i ** 3}')"
   ]
  },
  {
   "attachments": {},
   "cell_type": "markdown",
   "metadata": {},
   "source": [
    "5) Crear una variable que contenga un número entero y realizar un ciclo for la misma cantidad de ciclos"
   ]
  },
  {
   "cell_type": "code",
   "execution_count": 4,
   "metadata": {},
   "outputs": [
    {
     "name": "stdout",
     "output_type": "stream",
     "text": [
      "0\n",
      "1\n",
      "2\n",
      "3\n"
     ]
    }
   ],
   "source": [
    "c = 4\n",
    "for i in range(c):\n",
    "    print(i)"
   ]
  },
  {
   "attachments": {},
   "cell_type": "markdown",
   "metadata": {},
   "source": [
    "6) Utilizar un ciclo while para realizar el factorial de un número guardado en una variable, sólo si la variable contiene un número entero mayor a 0"
   ]
  },
  {
   "cell_type": "code",
   "execution_count": 12,
   "metadata": {},
   "outputs": [
    {
     "name": "stdout",
     "output_type": "stream",
     "text": [
      "120\n"
     ]
    }
   ],
   "source": [
    "num = 5\n",
    "fact = 1\n",
    "if type(num) == int:\n",
    "    while num > 0:\n",
    "        fact *= num\n",
    "        num -= 1\n",
    "    print(fact)\n",
    "    \n",
    "else:\n",
    "    print(\"No es un entero\")"
   ]
  },
  {
   "attachments": {},
   "cell_type": "markdown",
   "metadata": {},
   "source": [
    "7) Crear un ciclo for dentro de un ciclo while"
   ]
  },
  {
   "cell_type": "code",
   "execution_count": 1,
   "metadata": {},
   "outputs": [
    {
     "name": "stdout",
     "output_type": "stream",
     "text": [
      "ciclo while\n",
      "ciclo for\n",
      "ciclo for\n",
      "ciclo for\n",
      "ciclo while\n",
      "ciclo for\n",
      "ciclo for\n",
      "ciclo while\n",
      "ciclo for\n",
      "termino el ciclo while\n"
     ]
    }
   ],
   "source": [
    "num = 3\n",
    "while num > 0:\n",
    "    \n",
    "    print(\"ciclo while\")\n",
    "    for i in range(num):\n",
    "        print(\"ciclo for\")\n",
    "    num -= 1    \n",
    "print('termino el ciclo while')    "
   ]
  },
  {
   "attachments": {},
   "cell_type": "markdown",
   "metadata": {},
   "source": [
    "8) Crear un ciclo while dentro de un ciclo for"
   ]
  },
  {
   "cell_type": "code",
   "execution_count": 2,
   "metadata": {},
   "outputs": [
    {
     "name": "stdout",
     "output_type": "stream",
     "text": [
      "ciclo for\n",
      "ciclo while\n",
      "ciclo while\n",
      "ciclo while\n",
      "ciclo while\n",
      "ciclo for\n",
      "ciclo for\n",
      "ciclo for\n",
      "fin del ciclo for\n"
     ]
    }
   ],
   "source": [
    "num = 4\n",
    "for i in range(num):\n",
    "    print(\"ciclo for\")\n",
    "    while num > 0:\n",
    "        num -= 1\n",
    "        print(\"ciclo while\")\n",
    "print(\"fin del ciclo for\")        \n",
    "    "
   ]
  },
  {
   "attachments": {},
   "cell_type": "markdown",
   "metadata": {},
   "source": []
  },
  {
   "attachments": {},
   "cell_type": "markdown",
   "metadata": {},
   "source": [
    "9) Imprimir los números primos existentes entre 0 y 30"
   ]
  },
  {
   "cell_type": "code",
   "execution_count": 21,
   "metadata": {},
   "outputs": [
    {
     "name": "stdout",
     "output_type": "stream",
     "text": [
      "2 Es primo\n",
      "3 Es primo\n",
      "5 Es primo\n",
      "7 Es primo\n",
      "11 Es primo\n",
      "13 Es primo\n",
      "17 Es primo\n",
      "19 Es primo\n",
      "23 Es primo\n",
      "29 Es primo\n"
     ]
    }
   ],
   "source": [
    "\n",
    "for num in range(0, 31):\n",
    "    if num > 1:\n",
    "        es_primo = True\n",
    "        for i in range(2, num):\n",
    "            if (num % i) == 0:\n",
    "                es_primo = False\n",
    "                \n",
    "        if es_primo:\n",
    "            print(num, 'Es primo')\n",
    "\n",
    "\n",
    "           \n",
    "      "
   ]
  },
  {
   "attachments": {},
   "cell_type": "markdown",
   "metadata": {},
   "source": [
    "10) ¿Se puede mejorar el proceso del punto 9? Utilizar las sentencias break y/ó continue para tal fin"
   ]
  },
  {
   "cell_type": "code",
   "execution_count": 3,
   "metadata": {},
   "outputs": [
    {
     "name": "stdout",
     "output_type": "stream",
     "text": [
      "2 Es primo\n",
      "3 Es primo\n",
      "5 Es primo\n",
      "7 Es primo\n",
      "11 Es primo\n",
      "13 Es primo\n",
      "17 Es primo\n",
      "19 Es primo\n",
      "23 Es primo\n",
      "29 Es primo\n"
     ]
    }
   ],
   "source": [
    "for num in range(0, 31):\n",
    "    if num > 1:\n",
    "        es_primo = True\n",
    "        for i in range(2, num):\n",
    "            if (num % i) == 0:\n",
    "                es_primo = False\n",
    "                break\n",
    "        if es_primo:\n",
    "            print(num, 'Es primo')"
   ]
  },
  {
   "attachments": {},
   "cell_type": "markdown",
   "metadata": {},
   "source": [
    "11) En los puntos 9 y 10, se diseño un código que encuentra números primos y además se lo optimizó. ¿Es posible saber en qué medida se optimizó?"
   ]
  },
  {
   "cell_type": "code",
   "execution_count": 7,
   "metadata": {},
   "outputs": [
    {
     "name": "stdout",
     "output_type": "stream",
     "text": [
      "2 Es primo\n",
      "3 Es primo\n",
      "5 Es primo\n",
      "7 Es primo\n",
      "11 Es primo\n",
      "13 Es primo\n",
      "17 Es primo\n",
      "19 Es primo\n",
      "23 Es primo\n",
      "29 Es primo\n",
      "cantidad de ciclos sin break: 52\n"
     ]
    }
   ],
   "source": [
    "contador = 0\n",
    "for num in range(0, 31):\n",
    "    \n",
    "    if num > 1:\n",
    "        es_primo = True\n",
    "        for i in range(2, num):\n",
    "            if (num % i) == 0:\n",
    "                contador +=1\n",
    "                es_primo = False\n",
    "                \n",
    "        if es_primo:\n",
    "            print(num, 'Es primo')\n",
    "print(f\"cantidad de ciclos sin break: {contador}\")            "
   ]
  },
  {
   "attachments": {},
   "cell_type": "markdown",
   "metadata": {},
   "source": [
    "12) Si la cantidad de números que se evalúa es mayor a treinta, esa optimización crece?"
   ]
  },
  {
   "cell_type": "code",
   "execution_count": 10,
   "metadata": {},
   "outputs": [
    {
     "name": "stdout",
     "output_type": "stream",
     "text": [
      "2 Es primo\n",
      "3 Es primo\n",
      "5 Es primo\n",
      "7 Es primo\n",
      "11 Es primo\n",
      "13 Es primo\n",
      "17 Es primo\n",
      "19 Es primo\n",
      "23 Es primo\n",
      "29 Es primo\n",
      "31 Es primo\n",
      "37 Es primo\n",
      "41 Es primo\n",
      "43 Es primo\n",
      "47 Es primo\n",
      "53 Es primo\n",
      "59 Es primo\n",
      "61 Es primo\n",
      "67 Es primo\n",
      "71 Es primo\n",
      "73 Es primo\n",
      "79 Es primo\n",
      "83 Es primo\n",
      "89 Es primo\n",
      "97 Es primo\n",
      "cantidad de ciclos  break: 73\n"
     ]
    }
   ],
   "source": [
    "contador = 0\n",
    "for num in range(0, 100):\n",
    "    \n",
    "    if num > 1:\n",
    "        es_primo = True\n",
    "        for i in range(2, num):\n",
    "            if (num % i) == 0:\n",
    "                contador +=1\n",
    "                es_primo = False\n",
    "                break\n",
    "                \n",
    "        if es_primo:\n",
    "            print(num, 'Es primo')\n",
    "print(f\"cantidad de ciclos  break: {contador}\") "
   ]
  },
  {
   "attachments": {},
   "cell_type": "markdown",
   "metadata": {},
   "source": [
    "13) Aplicando continue, armar un ciclo while que solo imprima los valores divisibles por 12, dentro del rango de números de 100 a 300"
   ]
  },
  {
   "cell_type": "code",
   "execution_count": 30,
   "metadata": {},
   "outputs": [
    {
     "name": "stdout",
     "output_type": "stream",
     "text": [
      "108\n",
      "120\n",
      "132\n",
      "144\n",
      "156\n",
      "168\n",
      "180\n",
      "192\n",
      "204\n",
      "216\n",
      "228\n",
      "240\n",
      "252\n",
      "264\n",
      "276\n",
      "288\n"
     ]
    }
   ],
   "source": [
    "\n",
    "while True:\n",
    "    for i in range(100, 300):\n",
    "        if i % 12 != 0:\n",
    "           continue\n",
    "        print(i)\n",
    "    break   "
   ]
  },
  {
   "attachments": {},
   "cell_type": "markdown",
   "metadata": {},
   "source": [
    "14) Utilizar la función **input()** que permite hacer ingresos por teclado, para encontrar números primos y dar la opción al usario de buscar el siguiente"
   ]
  },
  {
   "cell_type": "code",
   "execution_count": 12,
   "metadata": {},
   "outputs": [
    {
     "name": "stdout",
     "output_type": "stream",
     "text": [
      "2 es primo\n",
      "3 es primo\n",
      "5 es primo\n",
      "7 es primo\n",
      "11 es primo\n",
      "A finalizado el proceso.\n"
     ]
    }
   ],
   "source": [
    "\n",
    "\n",
    "\n",
    "\n",
    "for num in range(0, 31):\n",
    "    if num > 1:\n",
    "        es_primo = True\n",
    "        for i in range(2, num):\n",
    "            if (num % i) == 0:\n",
    "                es_primo = False\n",
    "                break\n",
    "        if es_primo:\n",
    "            print(num, 'es primo')\n",
    "            respuesta = input(\"¿Deseas encontrar el siguiente número primo? (s/n): \")\n",
    "            if respuesta.lower() == 'n':\n",
    "                break\n",
    "\n",
    "\n",
    "print(\"A finalizado el proceso.\")\n",
    "            \n",
    "            \n",
    "            \n",
    "   "
   ]
  },
  {
   "attachments": {},
   "cell_type": "markdown",
   "metadata": {},
   "source": [
    "15) Crear un ciclo while que encuentre dentro del rango de 100 a 300 el primer número divisible por 3 y además múltiplo de 6"
   ]
  },
  {
   "cell_type": "code",
   "execution_count": 1,
   "metadata": {},
   "outputs": [
    {
     "name": "stdout",
     "output_type": "stream",
     "text": [
      "102\n"
     ]
    }
   ],
   "source": [
    "encontrado = False\n",
    "while True:\n",
    "    for i in range(100, 300):\n",
    "        if i % 6 == 0:\n",
    "            num_str = str(i)\n",
    "            total_sum = 0\n",
    "            for digit in num_str:\n",
    "                total_sum += int(digit)\n",
    "            \n",
    "            if total_sum % 3 == 0:\n",
    "                print(i)\n",
    "                encontrado = True\n",
    "                break\n",
    "    \n",
    "    if encontrado:\n",
    "        break"
   ]
  }
 ],
 "metadata": {
  "interpreter": {
   "hash": "c85384e4cb51c8b72350f3a8712cc8351fdc3955e32a27f9b60c6242ab125f01"
  },
  "kernelspec": {
   "display_name": "Python 3 (ipykernel)",
   "language": "python",
   "name": "python3"
  },
  "language_info": {
   "codemirror_mode": {
    "name": "ipython",
    "version": 3
   },
   "file_extension": ".py",
   "mimetype": "text/x-python",
   "name": "python",
   "nbconvert_exporter": "python",
   "pygments_lexer": "ipython3",
   "version": "3.11.3"
  }
 },
 "nbformat": 4,
 "nbformat_minor": 4
}
